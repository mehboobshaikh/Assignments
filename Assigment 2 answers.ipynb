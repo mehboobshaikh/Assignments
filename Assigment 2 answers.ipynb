{
 "cells": [
  {
   "cell_type": "code",
   "execution_count": 11,
   "metadata": {},
   "outputs": [
    {
     "data": {
      "text/plain": [
       "6"
      ]
     },
     "execution_count": 11,
     "metadata": {},
     "output_type": "execute_result"
    }
   ],
   "source": [
    "#Task 1 Q 1.1\n",
    "\n",
    "#Write a Python Program to implement your own myreduce() function which works exactly like\n",
    "#Python's built-in function reduce()\n",
    "\n",
    "def myreducefunc(myfunc,mycollection):\n",
    "    # Get first item in collection and assign to result\n",
    "    myoutput=mycollection[0]\n",
    "    # iterate over remaining items in collection and pass two arguments to myfunc as myoutput and item\n",
    "    for i in mycollection[1:]:\n",
    "        myoutput=myfunc(myoutput,i)\n",
    "    return myoutput\n",
    "\n",
    "\n",
    "#Test above customized function\n",
    "l=[1,2,3]\n",
    "myreducefunc(lambda a,b: a+b,l)\n",
    "    "
   ]
  },
  {
   "cell_type": "code",
   "execution_count": 117,
   "metadata": {},
   "outputs": [
    {
     "data": {
      "text/plain": [
       "[0, -2, 4, -6]"
      ]
     },
     "execution_count": 117,
     "metadata": {},
     "output_type": "execute_result"
    }
   ],
   "source": [
    "#Task 1 Q 1.2\n",
    "\n",
    "#Write a Python program to implement your own myfilter() function which works exactly like\n",
    "#Python's built-in function filter()\n",
    "\n",
    "\n",
    "def myfilter(anyfunc, sequence):\n",
    "\n",
    " # Initialize empty list\n",
    " result = []\n",
    " # iterate over sequence of items in sequence and apply filter function\n",
    " for item in sequence:\n",
    "  if anyfunc(item):\n",
    "   result.append(item)\n",
    "\n",
    " # return final output\n",
    " return result\n",
    "\n",
    "# test myfilter function\n",
    "def even_check(x):\n",
    " if (x%2==0): \n",
    "  return True \n",
    " else: \n",
    "  return False\n",
    "\n",
    "#Test above customized function\n",
    "myfilter(even_check, [0,1,-2,3,4,5,-6,7])"
   ]
  },
  {
   "cell_type": "code",
   "execution_count": 180,
   "metadata": {},
   "outputs": [
    {
     "name": "stdout",
     "output_type": "stream",
     "text": [
      "['A', 'C', 'A', 'D', 'G', 'I', 'L', 'D']\n",
      "['x', 'xx', 'xxx', 'xxxx', 'y', 'yy', 'yyy', 'yyyy', 'z', 'zz', 'zzz', 'zzzz']\n",
      "['x', 'y', 'z', 'xx', 'yy', 'zz', 'xxx', 'yyy', 'zzz', 'xxxx', 'yyyy', 'zzzz']\n",
      "[[2], [3], [4], [3], [4], [5], [4], [5], [6]]\n",
      "[[2, 3, 4, 5], [3, 4, 5, 6], [4, 5, 6, 7], [5, 6, 7, 8]]\n",
      "[(1, 1), (2, 1), (3, 1), (1, 2), (2, 2), (3, 2), (1, 3), (2, 3), (3, 3)]\n"
     ]
    }
   ],
   "source": [
    "#Task 1 Q2\n",
    "\n",
    "#####\n",
    "mylist=[i for i in \"ACADGILD\"]\n",
    "print(mylist)\n",
    "######\n",
    "mylist1= [j*k for j in \"xyz\" for k in range(1,5)]\n",
    "print(mylist1)\n",
    "######\n",
    "mylist2= [k*j for k in range(1,5) for j in \"xyz\" ]\n",
    "print(mylist2)\n",
    "######\n",
    "mylist3=[[m+n] for m in [2,3,4] for n in range(0,3)]\n",
    "print(str(mylist3))\n",
    "######\n",
    "mylist4=[[o+p for o in range(0,4)] for p in [2,3,4,5]]\n",
    "print(str(mylist4))\n",
    "######\n",
    "mylist5=[(p,o) for o in [1,2,3] for p in [1,2,3]]\n",
    "print(str(mylist5))\n",
    "######\n"
   ]
  },
  {
   "cell_type": "code",
   "execution_count": 195,
   "metadata": {},
   "outputs": [
    {
     "name": "stdout",
     "output_type": "stream",
     "text": [
      "abcde\n"
     ]
    }
   ],
   "source": [
    "#Task1 Q3\n",
    "#Implement a function longestWord() that takes a list of words and returns the longest one\n",
    "def find_longest_word(words_list):\n",
    "    word_len = []\n",
    "    for n in words_list:\n",
    "        word_len.append((len(n), n))\n",
    "    word_len.sort()\n",
    "    return word_len[-1][1]\n",
    "\n",
    "#Test above customized function\n",
    "print(find_longest_word([\"abc\", \"abcd\", \"abcde\"]))\n"
   ]
  },
  {
   "cell_type": "code",
   "execution_count": 1,
   "metadata": {},
   "outputs": [
    {
     "name": "stdout",
     "output_type": "stream",
     "text": [
      "Enter value for side1 : 5\n",
      "Enter value for side2 : 5\n",
      "Enter value for side3 : 5\n",
      "Area of triangle is 10.825317547305483\n"
     ]
    }
   ],
   "source": [
    "#Task 2 Q1.1\n",
    "class Trisides():\n",
    "        def __init__(self):\n",
    "            self.sides =[i for i in range(0,3)]\n",
    "        def inputside(self):\n",
    "            self.sides=[float(input('Enter value for side'+ str(i+1)+ \" : \")) for i in range(0,3)]\n",
    "class TriArea(Trisides):\n",
    "        def __init__(self):\n",
    "            Trisides.__init__(self)\n",
    "        def area(self):\n",
    "            a,b,c =self.sides\n",
    "            s=(a+b+c)/2\n",
    "            return (s*(s-a)*(s-b)*(s-c))**0.5\n",
    "\n",
    "t=TriArea()\n",
    "t.inputside()\n",
    "y=t.area()\n",
    "print('Area of triangle is ' +str(y))\n",
    "\n"
   ]
  },
  {
   "cell_type": "code",
   "execution_count": 8,
   "metadata": {},
   "outputs": [
    {
     "data": {
      "text/plain": [
       "'bbbbbb'"
      ]
     },
     "execution_count": 8,
     "metadata": {},
     "output_type": "execute_result"
    }
   ],
   "source": [
    "#Task 2 Q1.2\n",
    "def filter_long_words(words, n):\n",
    "    return filter(lambda x: len(x) > n, words)\n",
    "\n",
    "next(filter_long_words(['aaa', 'bbbbbb', 'ccccccc'],4))"
   ]
  },
  {
   "cell_type": "code",
   "execution_count": 14,
   "metadata": {},
   "outputs": [],
   "source": [
    "#Task 2 Q2.1\n",
    "\n",
    "def map_to_lengths_for(lstwords):\n",
    "    lengths = []\n",
    "    for lstword in lstwords:\n",
    "        lengths.append(len(lstword))\n",
    "    return lengths\n",
    "\n",
    "\n",
    "def map_to_lengths_map(lstwords):\n",
    "    return map(len, lstwords)\n",
    "\n",
    "\n",
    "def map_to_lengths_lists(lstwords):\n",
    "    return [len(lstword) for lstword in lstwords]\n",
    "\n",
    "\n"
   ]
  },
  {
   "cell_type": "code",
   "execution_count": 15,
   "metadata": {},
   "outputs": [
    {
     "data": {
      "text/plain": [
       "[3, 2, 6]"
      ]
     },
     "execution_count": 15,
     "metadata": {},
     "output_type": "execute_result"
    }
   ],
   "source": [
    "map_to_lengths_lists(['aaa','bb','llllll'])"
   ]
  },
  {
   "cell_type": "code",
   "execution_count": 16,
   "metadata": {},
   "outputs": [],
   "source": [
    "#Task 2 Q2.2\n",
    "def is_vowel(char):\n",
    "    vowels = ('a', 'e', 'i', 'o', 'u')\n",
    "    if char not in vowels:\n",
    "        return False\n",
    "    return True"
   ]
  },
  {
   "cell_type": "code",
   "execution_count": 18,
   "metadata": {},
   "outputs": [
    {
     "data": {
      "text/plain": [
       "False"
      ]
     },
     "execution_count": 18,
     "metadata": {},
     "output_type": "execute_result"
    }
   ],
   "source": [
    "is_vowel('m')"
   ]
  },
  {
   "cell_type": "code",
   "execution_count": null,
   "metadata": {},
   "outputs": [],
   "source": []
  }
 ],
 "metadata": {
  "kernelspec": {
   "display_name": "Python 3",
   "language": "python",
   "name": "python3"
  },
  "language_info": {
   "codemirror_mode": {
    "name": "ipython",
    "version": 3
   },
   "file_extension": ".py",
   "mimetype": "text/x-python",
   "name": "python",
   "nbconvert_exporter": "python",
   "pygments_lexer": "ipython3",
   "version": "3.7.4"
  }
 },
 "nbformat": 4,
 "nbformat_minor": 2
}
