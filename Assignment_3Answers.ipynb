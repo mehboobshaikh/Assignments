{
 "cells": [
  {
   "cell_type": "code",
   "execution_count": 7,
   "metadata": {},
   "outputs": [
    {
     "name": "stdout",
     "output_type": "stream",
     "text": [
      "you are dividing a number by ZERO!!\n"
     ]
    }
   ],
   "source": [
    "#Task 1 Q 1\n",
    "\n",
    "def tryexcept():\n",
    "    try:\n",
    "       i=5/0\n",
    "    except:\n",
    "       print('you are dividing a number by ZERO!!')\n",
    "\n",
    "#Testing above program  \n",
    "tryexcept()   "
   ]
  },
  {
   "cell_type": "code",
   "execution_count": 2,
   "metadata": {},
   "outputs": [
    {
     "name": "stdout",
     "output_type": "stream",
     "text": [
      "you are dividing a number by ZERO!!\n"
     ]
    }
   ],
   "source": [
    "tryexcept()"
   ]
  },
  {
   "cell_type": "code",
   "execution_count": 8,
   "metadata": {},
   "outputs": [
    {
     "name": "stdout",
     "output_type": "stream",
     "text": [
      "Americans Play Baseball\n",
      "Americans Play cricket\n",
      "Americans watch Baseball\n",
      "Americans watch cricket\n",
      "Indians Play Baseball\n",
      "Indians Play cricket\n",
      "Indians watch Baseball\n",
      "Indians watch cricket\n"
     ]
    }
   ],
   "source": [
    "#Task 1 Q 2\n",
    "subjects=[\"Americans\", \"Indians\"]\n",
    "verbs=[\"Play\", \"watch\"]\n",
    "objects=[\"Baseball\",\"cricket\"]\n",
    "sentance =  [(sub+' '+verb+\" \"+obj) for sub in subjects for verb in verbs for obj in objects]\n",
    "for i in sentance:\n",
    "    print(i)\n"
   ]
  },
  {
   "cell_type": "code",
   "execution_count": 9,
   "metadata": {},
   "outputs": [],
   "source": [
    "#Task 2 Q 1\n",
    "\n",
    "import numpy as np\n",
    "\n",
    "def myVander(inVector,N = None,increasing = False) :\n",
    "    x = np.array(inVector)\n",
    "   # Validating dimesion of input vector\n",
    "    if x.ndim != 1:\n",
    "        raise ValueError(\"x must be a one-dimensional array or sequence\") \n",
    "    # If input column size is None then assigning lenght of input vector\n",
    "    if N is None:\n",
    "        N = len(x)         \n",
    "    # Creating zeros matrix\n",
    "    v = np.zeros((len(x), N), dtype=np.promote_types(x.dtype, int))\n",
    "    # Generation temporary array         \n",
    "    if not increasing:\n",
    "        tmp = np.asarray([x**(N-1-i) for i in range(N)])\n",
    "    else:\n",
    "        tmp = np.asarray([x**(N-i) for i in range(N,0,-1)])\n",
    "               \n",
    "    # Converting tmp array elements to columns\n",
    "    tmp = np.column_stack(tmp)\n",
    "               \n",
    "    # copying tmp elements to final array(v)\n",
    "    for i in range(tmp.shape[0]):\n",
    "        for j in range(tmp.shape[1]):\n",
    "            v[i,j] = tmp[i,j]\n",
    "    return v"
   ]
  },
  {
   "cell_type": "code",
   "execution_count": 10,
   "metadata": {},
   "outputs": [
    {
     "data": {
      "text/plain": [
       "array([[1, 1, 1],\n",
       "       [4, 2, 1],\n",
       "       [9, 3, 1]])"
      ]
     },
     "execution_count": 10,
     "metadata": {},
     "output_type": "execute_result"
    }
   ],
   "source": [
    "myVander([1,2,3])"
   ]
  },
  {
   "cell_type": "code",
   "execution_count": null,
   "metadata": {},
   "outputs": [],
   "source": []
  }
 ],
 "metadata": {
  "kernelspec": {
   "display_name": "Python 3",
   "language": "python",
   "name": "python3"
  },
  "language_info": {
   "codemirror_mode": {
    "name": "ipython",
    "version": 3
   },
   "file_extension": ".py",
   "mimetype": "text/x-python",
   "name": "python",
   "nbconvert_exporter": "python",
   "pygments_lexer": "ipython3",
   "version": "3.7.4"
  }
 },
 "nbformat": 4,
 "nbformat_minor": 2
}
